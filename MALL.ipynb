{
  "metadata": {
    "kernelspec": {
      "name": "python",
      "display_name": "Python (Pyodide)",
      "language": "python"
    },
    "language_info": {
      "name": ""
    }
  },
  "nbformat_minor": 4,
  "nbformat": 4,
  "cells": [
    {
      "cell_type": "code",
      "source": "import pandas as pd\nfrom sklearn.cluster import KMeans\nfrom sklearn.preprocessing import StandardScaler\nimport matplotlib.pyplot as plt\nimport seaborn as sns\n\n# Load the dataset\nfile_path = '/kaggle/input/customer-segmentation-tutorial-in-python/Mall_Customers.csv'\ndata = pd.read_csv(file_path)\n\n# Select relevant features\nfeatures = ['Annual Income (k$)', 'Spending Score (1-100)']\nX = data[features]\n\n# Scale the features\nscaler = StandardScaler()\nX_scaled = scaler.fit_transform(X)\n\n# Number of clusters\nnum_clusters = 5\n\n# Initialize K-means model with explicit n_init\nkmeans = KMeans(n_clusters=num_clusters, random_state=42, n_init=10)\n\n# Fit the model to the scaled data\nkmeans.fit(X_scaled)\n\n# Predict the clusters\ncluster_labels = kmeans.labels_\n\n# Add cluster labels to the original dataset\ndata['Cluster'] = cluster_labels\n\n# Visualize the clusters\nsns.scatterplot(x='Annual Income (k$)', y='Spending Score (1-100)', hue='Cluster', data=data, palette='viridis')\nplt.title('K-means Clustering of Customers')\nplt.xlabel('Annual Income (k$)')\nplt.ylabel('Spending Score (1-100)')\nplt.show()",
      "metadata": {
        "trusted": true
      },
      "outputs": [],
      "execution_count": null
    },
    {
      "cell_type": "code",
      "source": "",
      "metadata": {
        "trusted": true
      },
      "outputs": [],
      "execution_count": null
    }
  ]
}